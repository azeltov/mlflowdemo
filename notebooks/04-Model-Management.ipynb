{
 "cells": [
  {
   "cell_type": "markdown",
   "metadata": {},
   "source": [
    "# Model Management\n",
    "\n",
    "An MLflow model is a standard format for packaging models that can be used on a variety of downstream tools.  This lesson provides a generalizable way of handling machine learning models created in and deployed to a variety of environments.\n",
    "\n",
    "\n",
    " - Introduce model management best practices\n",
    " - Store and use different flavors of models for different deployment environments\n",
    " - Apply models combined with arbitrary pre and post-processing code using Python models"
   ]
  },
  {
   "cell_type": "markdown",
   "metadata": {},
   "source": [
    "\n",
    "### Managing Machine Learning Models\n",
    "\n",
    "Once a model has been trained and bundled with the environment it was trained in...<br><br>\n",
    "\n",
    "* The next step is to package the model so that it can be used by a variety of serving tools\n",
    "* Current deployment options include:\n",
    "   - Container-based REST servers\n",
    "   - Continuous deployment using Spark streaming\n",
    "   - Batch\n",
    "   - Managed cloud platforms such as Azure ML and AWS SageMaker\n",
    "   \n",
    "Packaging the final model in a platform-agnostic way offers the most flexibility in deployment options and allows for model reuse across a number of platforms."
   ]
  },
  {
   "cell_type": "markdown",
   "metadata": {},
   "source": [
    "**MLflow models is a convention for packaging machine learning models that offers self-contained code, environments, and models.**<br><br>\n",
    "\n",
    "* The main abstraction in this package is the concept of **flavors** \n",
    "  - A flavor is a different ways the model can be used\n",
    "  - For instance, a TensorFlow model can be loaded as a TensorFlow DAG or as a Python function\n",
    "  - Using an MLflow model convention allows for both of these flavors\n",
    "* The difference between projects and models is that models are for inference and serving\n",
    "* The `python_function` flavor of models gives a generic way of bundling models \n",
    "* We can thereby deploy a python function without worrying about the underlying format of the model\n",
    "\n",
    "**MLflow therefore maps any training framework to any deployment**, massively reducing the complexity of inference.\n",
    "\n",
    "Arbitrary pre and post-processing steps can be included in the pipeline such as data loading, cleansing, and featurization.  This means that the full pipeline, not just the model, can be preserved.\n",
    "\n",
    "<div><img src=\"https://files.training.databricks.com/images/eLearning/ML-Part-4/mlflow-models-enviornments.png\" style=\"height: 400px; margin: 20px\"/></div>"
   ]
  },
  {
   "cell_type": "markdown",
   "metadata": {},
   "source": [
    "Run the following cell to set up our environment."
   ]
  },
  {
   "cell_type": "markdown",
   "metadata": {},
   "source": [
    "\n",
    "### Model Flavors\n",
    "\n",
    "Flavors offer a way of saving models in a way that's agnostic to the training development, making it significantly easier to be used in various deployment options.  The current built-in flavors include the following:<br><br>\n",
    "\n",
    "* <a href=\"https://mlflow.org/docs/latest/python_api/mlflow.pyfunc.html#module-mlflow.pyfunc\" target=\"_blank\">mlflow.pyfunc</a>\n",
    "* <a href=\"https://mlflow.org/docs/latest/python_api/mlflow.h2o.html#module-mlflow.h2o\" target=\"_blank\">mlflow.h2o</a>\n",
    "* <a href=\"https://mlflow.org/docs/latest/python_api/mlflow.keras.html#module-mlflow.keras\" target=\"_blank\">mlflow.keras</a>\n",
    "* <a href=\"https://mlflow.org/docs/latest/python_api/mlflow.pytorch.html#module-mlflow.pytorch\" target=\"_blank\">mlflow.pytorch</a>\n",
    "* <a href=\"https://mlflow.org/docs/latest/python_api/mlflow.sklearn.html#module-mlflow.sklearn\" target=\"_blank\">mlflow.sklearn</a>\n",
    "* <a href=\"https://mlflow.org/docs/latest/python_api/mlflow.spark.html#module-mlflow.spark\" target=\"_blank\">mlflow.spark</a>\n",
    "* <a href=\"https://mlflow.org/docs/latest/python_api/mlflow.tensorflow.html#module-mlflow.tensorflow\" target=\"_blank\">mlflow.tensorflow</a>\n",
    "\n",
    "Models also offer reproducibility since the run ID and the timestamp of the run are preserved as well.\n",
    "\n",
    "<div><img src=\"https://files.training.databricks.com/images/eLearning/ML-Part-4/mlflow-models.png\" style=\"height: 400px; margin: 20px\"/></div>"
   ]
  },
  {
   "cell_type": "markdown",
   "metadata": {},
   "source": [
    "Import the data"
   ]
  },
  {
   "cell_type": "code",
   "execution_count": 87,
   "metadata": {},
   "outputs": [],
   "source": [
    "import pandas as pd\n",
    "from sklearn.model_selection import train_test_split\n",
    "\n",
    "df = pd.read_csv(\"airbnb-cleaned-mlflow.csv\")\n",
    "X_train, X_test, y_train, y_test = train_test_split(df.drop([\"price\"], axis=1), df[[\"price\"]].values.ravel(), random_state=42)"
   ]
  },
  {
   "cell_type": "markdown",
   "metadata": {},
   "source": [
    "Train a random forest model."
   ]
  },
  {
   "cell_type": "code",
   "execution_count": 88,
   "metadata": {},
   "outputs": [
    {
     "data": {
      "text/plain": [
       "7074.520689859381"
      ]
     },
     "execution_count": 88,
     "metadata": {},
     "output_type": "execute_result"
    }
   ],
   "source": [
    "from sklearn.ensemble import RandomForestRegressor\n",
    "from sklearn.metrics import mean_squared_error, mean_absolute_error, r2_score\n",
    "\n",
    "rf = RandomForestRegressor(n_estimators=100, max_depth=5)\n",
    "rf.fit(X_train, y_train)\n",
    "\n",
    "rf_mse = mean_squared_error(y_test, rf.predict(X_test))\n",
    "\n",
    "rf_mse"
   ]
  },
  {
   "cell_type": "markdown",
   "metadata": {},
   "source": [
    "Train a neural network."
   ]
  },
  {
   "cell_type": "code",
   "execution_count": 89,
   "metadata": {},
   "outputs": [
    {
     "name": "stdout",
     "output_type": "stream",
     "text": [
      "Train on 2824 samples, validate on 706 samples\n",
      "Epoch 1/40\n",
      " - 0s - loss: 26583.2805 - val_loss: 21337.8679\n",
      "Epoch 2/40\n",
      " - 0s - loss: 20568.8117 - val_loss: 20016.8772\n",
      "Epoch 3/40\n",
      " - 0s - loss: 19596.8769 - val_loss: 19175.5001\n",
      "Epoch 4/40\n",
      " - 0s - loss: 18805.9316 - val_loss: 18120.7715\n",
      "Epoch 5/40\n",
      " - 0s - loss: 17887.9526 - val_loss: 17522.7208\n",
      "Epoch 6/40\n",
      " - 0s - loss: 16781.1336 - val_loss: 15535.7193\n",
      "Epoch 7/40\n",
      " - 0s - loss: 15431.9440 - val_loss: 13907.2625\n",
      "Epoch 8/40\n",
      " - 0s - loss: 13956.1992 - val_loss: 12105.9886\n",
      "Epoch 9/40\n",
      " - 0s - loss: 12532.7612 - val_loss: 10987.7080\n",
      "Epoch 10/40\n",
      " - 0s - loss: 11715.1897 - val_loss: 11692.6057\n",
      "Epoch 11/40\n",
      " - 0s - loss: 11230.3535 - val_loss: 9974.7573\n",
      "Epoch 12/40\n",
      " - 0s - loss: 10685.3257 - val_loss: 9638.7825\n",
      "Epoch 13/40\n",
      " - 0s - loss: 10560.2003 - val_loss: 9571.0626\n",
      "Epoch 14/40\n",
      " - 0s - loss: 10393.8605 - val_loss: 9513.5465\n",
      "Epoch 15/40\n",
      " - 0s - loss: 10302.3213 - val_loss: 9391.6727\n",
      "Epoch 16/40\n",
      " - 0s - loss: 10206.0836 - val_loss: 9311.3108\n",
      "Epoch 17/40\n",
      " - 0s - loss: 10170.1092 - val_loss: 9240.6093\n",
      "Epoch 18/40\n",
      " - 0s - loss: 10115.4743 - val_loss: 9571.7626\n",
      "Epoch 19/40\n",
      " - 0s - loss: 10037.4638 - val_loss: 9116.4109\n",
      "Epoch 20/40\n",
      " - 0s - loss: 10004.9580 - val_loss: 9628.7752\n",
      "Epoch 21/40\n",
      " - 0s - loss: 9906.6700 - val_loss: 8988.9926\n",
      "Epoch 22/40\n",
      " - 0s - loss: 9867.9960 - val_loss: 8891.1170\n",
      "Epoch 23/40\n",
      " - 0s - loss: 9810.7426 - val_loss: 9004.0943\n",
      "Epoch 24/40\n",
      " - 0s - loss: 9734.0520 - val_loss: 8838.5167\n",
      "Epoch 25/40\n",
      " - 0s - loss: 9642.3949 - val_loss: 8800.7803\n",
      "Epoch 26/40\n",
      " - 0s - loss: 9716.1181 - val_loss: 9425.8660\n",
      "Epoch 27/40\n",
      " - 0s - loss: 9595.3051 - val_loss: 8759.5823\n",
      "Epoch 28/40\n",
      " - 0s - loss: 9626.4904 - val_loss: 8771.5012\n",
      "Epoch 29/40\n",
      " - 0s - loss: 9458.6418 - val_loss: 9134.8374\n",
      "Epoch 30/40\n",
      " - 0s - loss: 9444.4908 - val_loss: 8596.2485\n",
      "Epoch 31/40\n",
      " - 0s - loss: 9407.0305 - val_loss: 8550.2204\n",
      "Epoch 32/40\n",
      " - 0s - loss: 9383.3140 - val_loss: 8529.2939\n",
      "Epoch 33/40\n",
      " - 0s - loss: 9324.4460 - val_loss: 8500.0021\n",
      "Epoch 34/40\n",
      " - 0s - loss: 9415.9244 - val_loss: 8827.6510\n",
      "Epoch 35/40\n",
      " - 0s - loss: 9357.7850 - val_loss: 8414.0709\n",
      "Epoch 36/40\n",
      " - 0s - loss: 9245.9597 - val_loss: 8473.9904\n",
      "Epoch 37/40\n",
      " - 0s - loss: 9358.6300 - val_loss: 8528.3620\n",
      "Epoch 38/40\n",
      " - 0s - loss: 9413.2731 - val_loss: 8475.5154\n",
      "Epoch 39/40\n",
      " - 0s - loss: 9325.4548 - val_loss: 8601.7377\n",
      "Epoch 40/40\n",
      " - 0s - loss: 9173.0745 - val_loss: 8339.4224\n"
     ]
    },
    {
     "data": {
      "text/plain": [
       "8309.21803916579"
      ]
     },
     "execution_count": 89,
     "metadata": {},
     "output_type": "execute_result"
    }
   ],
   "source": [
    "import tensorflow as tf\n",
    "tf.set_random_seed(42) # For reproducibility\n",
    "\n",
    "from keras.models import Sequential\n",
    "from keras.layers import Dense\n",
    "\n",
    "nn = Sequential([\n",
    "  Dense(40, input_dim=21, activation='relu'),\n",
    "  Dense(20, activation='relu'),\n",
    "  Dense(1, activation='linear')\n",
    "])\n",
    "\n",
    "nn.compile(optimizer=\"adam\", loss=\"mse\")\n",
    "nn.fit(X_train, y_train, validation_split=.2, epochs=40, verbose=2)\n",
    "\n",
    "# nn.evaluate(X_test, y_test)\n",
    "nn_mse = mean_squared_error(y_test, nn.predict(X_test))\n",
    "\n",
    "nn_mse"
   ]
  },
  {
   "cell_type": "markdown",
   "metadata": {},
   "source": [
    "Now log the two models"
   ]
  },
  {
   "cell_type": "code",
   "execution_count": 90,
   "metadata": {},
   "outputs": [],
   "source": [
    "import mlflow.sklearn\n",
    "\n",
    "with mlflow.start_run(run_name=\"RF Model\") as run:\n",
    "  mlflow.sklearn.log_model(rf, \"model\")\n",
    "  mlflow.log_metric(\"mse\", rf_mse)\n",
    "\n",
    "  sklearnRunID = run.info.run_uuid\n",
    "  sklearnURI = run.info.artifact_uri\n",
    "  \n",
    "  experimentID = run.info.experiment_id"
   ]
  },
  {
   "cell_type": "code",
   "execution_count": 91,
   "metadata": {},
   "outputs": [],
   "source": [
    "import mlflow.keras\n",
    "\n",
    "with mlflow.start_run(run_name=\"NN Model\") as run:\n",
    "  mlflow.keras.log_model(nn, \"model\")\n",
    "  mlflow.log_metric(\"mse\", nn_mse)\n",
    "\n",
    "  kerasRunID = run.info.run_uuid\n",
    "  kerasURI = run.info.artifact_uri"
   ]
  },
  {
   "cell_type": "code",
   "execution_count": 92,
   "metadata": {},
   "outputs": [
    {
     "name": "stdout",
     "output_type": "stream",
     "text": [
      "/Users/azeltov/git/mlflowdemo/notebooks/mlruns/0/e5d6f0fcccb54aa986d1e1bd4c1581aa/artifacts\n",
      "/Users/azeltov/git/mlflowdemo/notebooks/mlruns/0/1657ee6477ff495299536516490d1957/artifacts\n"
     ]
    }
   ],
   "source": [
    "print(sklearnURI)\n",
    "print(kerasURI)"
   ]
  },
  {
   "cell_type": "code",
   "execution_count": 93,
   "metadata": {},
   "outputs": [
    {
     "name": "stdout",
     "output_type": "stream",
     "text": [
      "total 8\n",
      "drwxr-xr-x  7 azeltov  staff  224 May 20 14:30 .\n",
      "drwxr-xr-x  7 azeltov  staff  224 May 20 14:30 ..\n",
      "drwxr-xr-x  3 azeltov  staff   96 May 20 14:30 artifacts\n",
      "-rw-r--r--  1 azeltov  staff  449 May 20 14:30 meta.yaml\n",
      "drwxr-xr-x  3 azeltov  staff   96 May 20 14:30 metrics\n",
      "drwxr-xr-x  2 azeltov  staff   64 May 20 14:30 params\n",
      "drwxr-xr-x  5 azeltov  staff  160 May 20 14:30 tags\n"
     ]
    }
   ],
   "source": [
    "%%sh\n",
    "ls -al /Users/azeltov/git/mlflowdemo/notebooks/mlruns/0/e5d6f0fcccb54aa986d1e1bd4c1581aa/"
   ]
  },
  {
   "cell_type": "markdown",
   "metadata": {},
   "source": [
    "Look at the model flavors.  Both have their respective `keras` or `sklearn` flavors as well as a `python_function` flavor."
   ]
  },
  {
   "cell_type": "code",
   "execution_count": 109,
   "metadata": {},
   "outputs": [
    {
     "name": "stdout",
     "output_type": "stream",
     "text": [
      "total 800\n",
      "drwxr-xr-x  5 azeltov  staff     160 May 20 14:30 .\n",
      "drwxr-xr-x  3 azeltov  staff      96 May 20 14:30 ..\n",
      "-rw-r--r--  1 azeltov  staff     343 May 20 14:30 MLmodel\n",
      "-rw-r--r--  1 azeltov  staff     119 May 20 14:30 conda.yaml\n",
      "-rw-r--r--  1 azeltov  staff  397445 May 20 14:30 model.pkl\n",
      "-------------------------\n",
      "total 112\n",
      "drwxr-xr-x  5 azeltov  staff    160 May 20 14:30 .\n",
      "drwxr-xr-x  3 azeltov  staff     96 May 20 14:30 ..\n",
      "-rw-r--r--  1 azeltov  staff    287 May 20 14:30 MLmodel\n",
      "-rw-r--r--  1 azeltov  staff    102 May 20 14:30 conda.yaml\n",
      "-rw-r--r--  1 azeltov  staff  48408 May 20 14:30 model.h5\n"
     ]
    }
   ],
   "source": [
    "%%sh \n",
    "ls -al /Users/azeltov/git/mlflowdemo/notebooks/mlruns/0/e5d6f0fcccb54aa986d1e1bd4c1581aa/artifacts/model/\n",
    "echo \"-------------------------\"\n",
    "ls -al /Users/azeltov/git/mlflowdemo/notebooks/mlruns/0/1657ee6477ff495299536516490d1957/artifacts/model/\n"
   ]
  },
  {
   "cell_type": "code",
   "execution_count": 110,
   "metadata": {},
   "outputs": [
    {
     "name": "stdout",
     "output_type": "stream",
     "text": [
      "artifact_path: model\n",
      "flavors:\n",
      "  python_function:\n",
      "    data: model.pkl\n",
      "    env: conda.yaml\n",
      "    loader_module: mlflow.sklearn\n",
      "    python_version: 3.6.6\n",
      "  sklearn:\n",
      "    pickled_model: model.pkl\n",
      "    serialization_format: cloudpickle\n",
      "    sklearn_version: 0.19.1\n",
      "run_id: e5d6f0fcccb54aa986d1e1bd4c1581aa\n",
      "utc_time_created: '2019-05-16 15:22:57.380021'\n"
     ]
    }
   ],
   "source": [
    "%%sh \n",
    "cat /Users/azeltov/git/mlflowdemo/notebooks/mlruns/0/e5d6f0fcccb54aa986d1e1bd4c1581aa/artifacts/model/MLmodel"
   ]
  },
  {
   "cell_type": "code",
   "execution_count": null,
   "metadata": {},
   "outputs": [],
   "source": [
    "%%sh \n",
    "cat /Users/azeltov/git/mlflowdemo/notebooks/mlruns/0/7044111e06624a19b48d1e6b96744ba4/artifacts/model/MLmodel\n"
   ]
  },
  {
   "cell_type": "markdown",
   "metadata": {},
   "source": [
    "Now we can use both of these models in the same way, even though they were trained by different packages."
   ]
  },
  {
   "cell_type": "code",
   "execution_count": 96,
   "metadata": {},
   "outputs": [
    {
     "data": {
      "text/plain": [
       "sklearn.ensemble.forest.RandomForestRegressor"
      ]
     },
     "execution_count": 96,
     "metadata": {},
     "output_type": "execute_result"
    }
   ],
   "source": [
    "import mlflow.pyfunc\n",
    "\n",
    "rf_pyfunc_model = mlflow.pyfunc.load_pyfunc(path=(sklearnURI+\"/model\"))\n",
    "type(rf_pyfunc_model)"
   ]
  },
  {
   "cell_type": "code",
   "execution_count": 97,
   "metadata": {},
   "outputs": [
    {
     "data": {
      "text/plain": [
       "mlflow.keras._KerasModelWrapper"
      ]
     },
     "execution_count": 97,
     "metadata": {},
     "output_type": "execute_result"
    }
   ],
   "source": [
    "import mlflow.pyfunc\n",
    "\n",
    "nn_pyfunc_model = mlflow.pyfunc.load_pyfunc(path=(kerasURI+\"/model\"))\n",
    "type(nn_pyfunc_model)"
   ]
  },
  {
   "cell_type": "markdown",
   "metadata": {},
   "source": [
    "Both will implement a predict method.  The `sklearn` model is still of type `sklearn` because this package natively implements this method."
   ]
  },
  {
   "cell_type": "code",
   "execution_count": 98,
   "metadata": {},
   "outputs": [
    {
     "data": {
      "text/plain": [
       "array([149.01402207, 119.33512745, 119.59790147, ..., 172.23161991,\n",
       "       119.33512745, 119.33512745])"
      ]
     },
     "execution_count": 98,
     "metadata": {},
     "output_type": "execute_result"
    }
   ],
   "source": [
    "rf_pyfunc_model.predict(X_test)"
   ]
  },
  {
   "cell_type": "code",
   "execution_count": 101,
   "metadata": {},
   "outputs": [
    {
     "data": {
      "text/html": [
       "<div>\n",
       "<style scoped>\n",
       "    .dataframe tbody tr th:only-of-type {\n",
       "        vertical-align: middle;\n",
       "    }\n",
       "\n",
       "    .dataframe tbody tr th {\n",
       "        vertical-align: top;\n",
       "    }\n",
       "\n",
       "    .dataframe thead th {\n",
       "        text-align: right;\n",
       "    }\n",
       "</style>\n",
       "<table border=\"1\" class=\"dataframe\">\n",
       "  <thead>\n",
       "    <tr style=\"text-align: right;\">\n",
       "      <th></th>\n",
       "      <th>0</th>\n",
       "    </tr>\n",
       "  </thead>\n",
       "  <tbody>\n",
       "    <tr>\n",
       "      <th>1210</th>\n",
       "      <td>144.847275</td>\n",
       "    </tr>\n",
       "    <tr>\n",
       "      <th>1729</th>\n",
       "      <td>129.515747</td>\n",
       "    </tr>\n",
       "    <tr>\n",
       "      <th>4428</th>\n",
       "      <td>140.550583</td>\n",
       "    </tr>\n",
       "    <tr>\n",
       "      <th>3720</th>\n",
       "      <td>407.037903</td>\n",
       "    </tr>\n",
       "    <tr>\n",
       "      <th>2970</th>\n",
       "      <td>112.609253</td>\n",
       "    </tr>\n",
       "    <tr>\n",
       "      <th>291</th>\n",
       "      <td>88.946892</td>\n",
       "    </tr>\n",
       "    <tr>\n",
       "      <th>4222</th>\n",
       "      <td>77.743027</td>\n",
       "    </tr>\n",
       "    <tr>\n",
       "      <th>4622</th>\n",
       "      <td>122.463432</td>\n",
       "    </tr>\n",
       "    <tr>\n",
       "      <th>4477</th>\n",
       "      <td>505.032166</td>\n",
       "    </tr>\n",
       "    <tr>\n",
       "      <th>960</th>\n",
       "      <td>119.904266</td>\n",
       "    </tr>\n",
       "    <tr>\n",
       "      <th>2256</th>\n",
       "      <td>227.003250</td>\n",
       "    </tr>\n",
       "    <tr>\n",
       "      <th>538</th>\n",
       "      <td>242.049759</td>\n",
       "    </tr>\n",
       "    <tr>\n",
       "      <th>3027</th>\n",
       "      <td>78.634293</td>\n",
       "    </tr>\n",
       "    <tr>\n",
       "      <th>3800</th>\n",
       "      <td>156.083130</td>\n",
       "    </tr>\n",
       "    <tr>\n",
       "      <th>2103</th>\n",
       "      <td>138.190628</td>\n",
       "    </tr>\n",
       "    <tr>\n",
       "      <th>3717</th>\n",
       "      <td>189.279541</td>\n",
       "    </tr>\n",
       "    <tr>\n",
       "      <th>296</th>\n",
       "      <td>353.325775</td>\n",
       "    </tr>\n",
       "    <tr>\n",
       "      <th>354</th>\n",
       "      <td>75.434990</td>\n",
       "    </tr>\n",
       "    <tr>\n",
       "      <th>1115</th>\n",
       "      <td>257.742584</td>\n",
       "    </tr>\n",
       "    <tr>\n",
       "      <th>937</th>\n",
       "      <td>184.972656</td>\n",
       "    </tr>\n",
       "    <tr>\n",
       "      <th>4007</th>\n",
       "      <td>220.075333</td>\n",
       "    </tr>\n",
       "    <tr>\n",
       "      <th>3114</th>\n",
       "      <td>308.477264</td>\n",
       "    </tr>\n",
       "    <tr>\n",
       "      <th>3080</th>\n",
       "      <td>190.327118</td>\n",
       "    </tr>\n",
       "    <tr>\n",
       "      <th>2447</th>\n",
       "      <td>119.420158</td>\n",
       "    </tr>\n",
       "    <tr>\n",
       "      <th>926</th>\n",
       "      <td>101.266441</td>\n",
       "    </tr>\n",
       "    <tr>\n",
       "      <th>3011</th>\n",
       "      <td>110.042809</td>\n",
       "    </tr>\n",
       "    <tr>\n",
       "      <th>4113</th>\n",
       "      <td>188.649155</td>\n",
       "    </tr>\n",
       "    <tr>\n",
       "      <th>471</th>\n",
       "      <td>259.210388</td>\n",
       "    </tr>\n",
       "    <tr>\n",
       "      <th>4258</th>\n",
       "      <td>101.639587</td>\n",
       "    </tr>\n",
       "    <tr>\n",
       "      <th>4633</th>\n",
       "      <td>122.463928</td>\n",
       "    </tr>\n",
       "    <tr>\n",
       "      <th>...</th>\n",
       "      <td>...</td>\n",
       "    </tr>\n",
       "    <tr>\n",
       "      <th>1578</th>\n",
       "      <td>122.307671</td>\n",
       "    </tr>\n",
       "    <tr>\n",
       "      <th>4243</th>\n",
       "      <td>255.036713</td>\n",
       "    </tr>\n",
       "    <tr>\n",
       "      <th>2591</th>\n",
       "      <td>312.651459</td>\n",
       "    </tr>\n",
       "    <tr>\n",
       "      <th>1886</th>\n",
       "      <td>184.732895</td>\n",
       "    </tr>\n",
       "    <tr>\n",
       "      <th>3745</th>\n",
       "      <td>96.683365</td>\n",
       "    </tr>\n",
       "    <tr>\n",
       "      <th>4221</th>\n",
       "      <td>252.896133</td>\n",
       "    </tr>\n",
       "    <tr>\n",
       "      <th>1162</th>\n",
       "      <td>101.158257</td>\n",
       "    </tr>\n",
       "    <tr>\n",
       "      <th>3425</th>\n",
       "      <td>137.283264</td>\n",
       "    </tr>\n",
       "    <tr>\n",
       "      <th>809</th>\n",
       "      <td>135.979843</td>\n",
       "    </tr>\n",
       "    <tr>\n",
       "      <th>978</th>\n",
       "      <td>217.816711</td>\n",
       "    </tr>\n",
       "    <tr>\n",
       "      <th>3922</th>\n",
       "      <td>237.579559</td>\n",
       "    </tr>\n",
       "    <tr>\n",
       "      <th>4324</th>\n",
       "      <td>386.098633</td>\n",
       "    </tr>\n",
       "    <tr>\n",
       "      <th>2909</th>\n",
       "      <td>70.714478</td>\n",
       "    </tr>\n",
       "    <tr>\n",
       "      <th>2254</th>\n",
       "      <td>238.414642</td>\n",
       "    </tr>\n",
       "    <tr>\n",
       "      <th>1170</th>\n",
       "      <td>173.141144</td>\n",
       "    </tr>\n",
       "    <tr>\n",
       "      <th>2177</th>\n",
       "      <td>119.906502</td>\n",
       "    </tr>\n",
       "    <tr>\n",
       "      <th>2077</th>\n",
       "      <td>183.740189</td>\n",
       "    </tr>\n",
       "    <tr>\n",
       "      <th>1491</th>\n",
       "      <td>272.054657</td>\n",
       "    </tr>\n",
       "    <tr>\n",
       "      <th>1902</th>\n",
       "      <td>253.709091</td>\n",
       "    </tr>\n",
       "    <tr>\n",
       "      <th>174</th>\n",
       "      <td>169.146378</td>\n",
       "    </tr>\n",
       "    <tr>\n",
       "      <th>2547</th>\n",
       "      <td>125.438408</td>\n",
       "    </tr>\n",
       "    <tr>\n",
       "      <th>1612</th>\n",
       "      <td>249.078751</td>\n",
       "    </tr>\n",
       "    <tr>\n",
       "      <th>1487</th>\n",
       "      <td>124.880974</td>\n",
       "    </tr>\n",
       "    <tr>\n",
       "      <th>3488</th>\n",
       "      <td>110.044975</td>\n",
       "    </tr>\n",
       "    <tr>\n",
       "      <th>217</th>\n",
       "      <td>89.679680</td>\n",
       "    </tr>\n",
       "    <tr>\n",
       "      <th>3501</th>\n",
       "      <td>183.058319</td>\n",
       "    </tr>\n",
       "    <tr>\n",
       "      <th>3329</th>\n",
       "      <td>70.592834</td>\n",
       "    </tr>\n",
       "    <tr>\n",
       "      <th>690</th>\n",
       "      <td>170.276672</td>\n",
       "    </tr>\n",
       "    <tr>\n",
       "      <th>2329</th>\n",
       "      <td>130.152802</td>\n",
       "    </tr>\n",
       "    <tr>\n",
       "      <th>4044</th>\n",
       "      <td>191.464233</td>\n",
       "    </tr>\n",
       "  </tbody>\n",
       "</table>\n",
       "<p>1177 rows × 1 columns</p>\n",
       "</div>"
      ],
      "text/plain": [
       "               0\n",
       "1210  144.847275\n",
       "1729  129.515747\n",
       "4428  140.550583\n",
       "3720  407.037903\n",
       "2970  112.609253\n",
       "291    88.946892\n",
       "4222   77.743027\n",
       "4622  122.463432\n",
       "4477  505.032166\n",
       "960   119.904266\n",
       "2256  227.003250\n",
       "538   242.049759\n",
       "3027   78.634293\n",
       "3800  156.083130\n",
       "2103  138.190628\n",
       "3717  189.279541\n",
       "296   353.325775\n",
       "354    75.434990\n",
       "1115  257.742584\n",
       "937   184.972656\n",
       "4007  220.075333\n",
       "3114  308.477264\n",
       "3080  190.327118\n",
       "2447  119.420158\n",
       "926   101.266441\n",
       "3011  110.042809\n",
       "4113  188.649155\n",
       "471   259.210388\n",
       "4258  101.639587\n",
       "4633  122.463928\n",
       "...          ...\n",
       "1578  122.307671\n",
       "4243  255.036713\n",
       "2591  312.651459\n",
       "1886  184.732895\n",
       "3745   96.683365\n",
       "4221  252.896133\n",
       "1162  101.158257\n",
       "3425  137.283264\n",
       "809   135.979843\n",
       "978   217.816711\n",
       "3922  237.579559\n",
       "4324  386.098633\n",
       "2909   70.714478\n",
       "2254  238.414642\n",
       "1170  173.141144\n",
       "2177  119.906502\n",
       "2077  183.740189\n",
       "1491  272.054657\n",
       "1902  253.709091\n",
       "174   169.146378\n",
       "2547  125.438408\n",
       "1612  249.078751\n",
       "1487  124.880974\n",
       "3488  110.044975\n",
       "217    89.679680\n",
       "3501  183.058319\n",
       "3329   70.592834\n",
       "690   170.276672\n",
       "2329  130.152802\n",
       "4044  191.464233\n",
       "\n",
       "[1177 rows x 1 columns]"
      ]
     },
     "execution_count": 101,
     "metadata": {},
     "output_type": "execute_result"
    }
   ],
   "source": [
    "nn_pyfunc_model.predict(X_test)"
   ]
  },
  {
   "cell_type": "code",
   "execution_count": 75,
   "metadata": {},
   "outputs": [
    {
     "data": {
      "text/plain": [
       "host_total_listings_count        1.000000\n",
       "neighbourhood_cleansed          29.000000\n",
       "zipcode                         21.000000\n",
       "latitude                        37.750854\n",
       "longitude                     -122.478961\n",
       "property_type                    0.000000\n",
       "room_type                        0.000000\n",
       "accommodates                     4.000000\n",
       "bathrooms                        1.000000\n",
       "bedrooms                         0.000000\n",
       "beds                             4.000000\n",
       "bed_type                         0.000000\n",
       "minimum_nights                   2.000000\n",
       "number_of_reviews              194.000000\n",
       "review_scores_rating            96.000000\n",
       "review_scores_accuracy          10.000000\n",
       "review_scores_cleanliness       10.000000\n",
       "review_scores_checkin           10.000000\n",
       "review_scores_communication     10.000000\n",
       "review_scores_location           9.000000\n",
       "review_scores_value              9.000000\n",
       "Name: 1210, dtype: float64"
      ]
     },
     "execution_count": 75,
     "metadata": {},
     "output_type": "execute_result"
    }
   ],
   "source": [
    "t =X_test.iloc[0]\n",
    "t"
   ]
  },
  {
   "cell_type": "markdown",
   "metadata": {},
   "source": [
    "(azure_automl) alexs-mbp-2:mlflowdemo azeltov$ mlflow pyfunc serve -m /Users/azeltov/git/mlflowdemo/notebooks/mlruns/0/e5d6f0fcccb54aa986d1e1bd4c1581aa/artifacts/model/  -p 1234"
   ]
  },
  {
   "cell_type": "code",
   "execution_count": 113,
   "metadata": {},
   "outputs": [
    {
     "name": "stdout",
     "output_type": "stream",
     "text": [
      "{\"columns\":[\"host_total_listings_count\",\"neighbourhood_cleansed\",\"zipcode\",\"latitude\",\"longitude\",\"property_type\",\"room_type\",\"accommodates\",\"bathrooms\",\"bedrooms\",\"beds\",\"bed_type\",\"minimum_nights\",\"number_of_reviews\",\"review_scores_rating\",\"review_scores_accuracy\",\"review_scores_cleanliness\",\"review_scores_checkin\",\"review_scores_communication\",\"review_scores_location\",\"review_scores_value\"],\"index\":[1210],\"data\":[[1.0,29,21,37.750853666,-122.4789613464,0,0,4.0,1.0,0.0,4.0,0,2.0,194.0,96.0,10.0,10.0,10.0,10.0,9.0,9.0]]}\n"
     ]
    }
   ],
   "source": [
    "sample = X_test.iloc[[0]]\n",
    "query_input = list(sample.as_matrix().flatten())\n",
    "sample_json = sample.to_json(orient=\"split\")\n",
    "print(sample_json)"
   ]
  },
  {
   "cell_type": "code",
   "execution_count": 104,
   "metadata": {},
   "outputs": [],
   "source": [
    "import requests\n",
    "import json\n",
    "\n",
    "def query_endpoint_example(scoring_uri, inputs, service_key=None):\n",
    "  headers = {\n",
    "    \"Content-Type\": \"application/json\",\n",
    "  }\n",
    "  if service_key is not None:\n",
    "    headers[\"Authorization\"] = \"Bearer {service_key}\".format(service_key=service_key)\n",
    "    \n",
    "  print(\"Sending batch prediction request with inputs: {}\".format(inputs))\n",
    "  response = requests.post(scoring_uri, data=inputs, headers=headers)\n",
    "  print(\"Response: {}\".format(response.text))\n",
    "  preds = json.loads(response.text)\n",
    "  print(\"Received response: {}\".format(preds))\n",
    "  return preds"
   ]
  },
  {
   "cell_type": "code",
   "execution_count": 118,
   "metadata": {},
   "outputs": [
    {
     "name": "stdout",
     "output_type": "stream",
     "text": [
      "Sending batch prediction request with inputs: {\"columns\":[\"host_total_listings_count\",\"neighbourhood_cleansed\",\"zipcode\",\"latitude\",\"longitude\",\"property_type\",\"room_type\",\"accommodates\",\"bathrooms\",\"bedrooms\",\"beds\",\"bed_type\",\"minimum_nights\",\"number_of_reviews\",\"review_scores_rating\",\"review_scores_accuracy\",\"review_scores_cleanliness\",\"review_scores_checkin\",\"review_scores_communication\",\"review_scores_location\",\"review_scores_value\"],\"index\":[1210],\"data\":[[1.0,29,21,37.750853666,-122.4789613464,0,0,4.0,1.0,0.0,4.0,0,2.0,194.0,96.0,10.0,10.0,10.0,10.0,9.0,9.0]]}\n",
      "Response: [149.01402206843878]\n",
      "Received response: [149.01402206843878]\n"
     ]
    }
   ],
   "source": [
    "dev_prediction = query_endpoint_example(scoring_uri='http://127.0.0.1:1234/invocations', inputs=sample_json)"
   ]
  },
  {
   "cell_type": "code",
   "execution_count": 119,
   "metadata": {},
   "outputs": [
    {
     "name": "stdout",
     "output_type": "stream",
     "text": [
      "[149.01402206843878]"
     ]
    },
    {
     "name": "stderr",
     "output_type": "stream",
     "text": [
      "  % Total    % Received % Xferd  Average Speed   Time    Time     Time  Current\n",
      "                                 Dload  Upload   Total   Spent    Left  Speed\n",
      "\r",
      "  0     0    0     0    0     0      0      0 --:--:-- --:--:-- --:--:--     0\r",
      "100   542  100    20  100   522   1367  35704 --:--:-- --:--:-- --:--:-- 37285\n"
     ]
    }
   ],
   "source": [
    "%%sh \n",
    "curl -X POST -H \"Content-Type:application/json; format=pandas-split\" --data '{\"columns\":[\"host_total_listings_count\",\"neighbourhood_cleansed\",\"zipcode\",\"latitude\",\"longitude\",\"property_type\",\"room_type\",\"accommodates\",\"bathrooms\",\"bedrooms\",\"beds\",\"bed_type\",\"minimum_nights\",\"number_of_reviews\",\"review_scores_rating\",\"review_scores_accuracy\",\"review_scores_cleanliness\",\"review_scores_checkin\",\"review_scores_communication\",\"review_scores_location\",\"review_scores_value\"],\"data\":[[1.0,29.0,21.0,37.750853666,-122.4789613464,0.0,0.0,4.0,1.0,0.0,4.0,0.0,2.0,194.0,96.0,10.0,10.0,10.0,10.0,9.0,9.0]]}' http://127.0.0.1:1234/invocations\n"
   ]
  },
  {
   "cell_type": "markdown",
   "metadata": {},
   "source": [
    "## ----------------------------------------------------------------------------------------------"
   ]
  },
  {
   "cell_type": "code",
   "execution_count": 120,
   "metadata": {},
   "outputs": [
    {
     "name": "stdout",
     "output_type": "stream",
     "text": [
      "<Response [200]>\n",
      "[149.01402206843878]\n"
     ]
    }
   ],
   "source": [
    "import requests\n",
    "server_port_number=1234\n",
    "headers = {'Content-type': 'application/json'}\n",
    "url = \"http://localhost:{port_number}/invocations\".format(port_number=server_port_number)\n",
    "\n",
    "input_json='{\"columns\":[\"host_total_listings_count\",\"neighbourhood_cleansed\",\"zipcode\",\"latitude\",\"longitude\",\"property_type\",\"room_type\",\"accommodates\",\"bathrooms\",\"bedrooms\",\"beds\",\"bed_type\",\"minimum_nights\",\"number_of_reviews\",\"review_scores_rating\",\"review_scores_accuracy\",\"review_scores_cleanliness\",\"review_scores_checkin\",\"review_scores_communication\",\"review_scores_location\",\"review_scores_value\"],\"data\":[[1.0,29.0,21.0,37.750853666,-122.4789613464,0.0,0.0,4.0,1.0,0.0,4.0,0.0,2.0,194.0,96.0,10.0,10.0,10.0,10.0,9.0,9.0]]}'\n",
    "\n",
    "response = requests.post(url=url, headers=headers, data=input_json)\n",
    "\n",
    "print(response)\n",
    "print(response.text)"
   ]
  },
  {
   "cell_type": "markdown",
   "metadata": {},
   "source": [
    "\n",
    "### Pre and Post Processing Code using `pyfunc`\n",
    "\n",
    "A `pyfunc` is a generic python model that can define any model, regardless of the libraries used to train it.  As such, it's defined as a directory structure with all of the dependencies.  It is then \"just an object\" with a predict method.  Since it makes very few assumptions, it can be deployed using MLflow, SageMaker, a Spark UDF or in any other environment.\n",
    "\n",
    "Check out <a href=\"https://mlflow.org/docs/latest/python_api/mlflow.pyfunc.html#pyfunc-create-custom\" target=\"_blank\">the `pyfunc` documentation for details</a><br>\n",
    "\n",
    "Check out <a href=\"https://github.com/mlflow/mlflow/blob/master/docs/source/models.rst#example-saving-an-xgboost-model-in-mlflow-format\" target=\"_blank\">this README for generic example code and integration with `XGBoost`</a>"
   ]
  },
  {
   "cell_type": "markdown",
   "metadata": {},
   "source": [
    "Define a model class."
   ]
  },
  {
   "cell_type": "code",
   "execution_count": null,
   "metadata": {},
   "outputs": [],
   "source": [
    "import mlflow.pyfunc\n",
    "\n",
    "class AddN(mlflow.pyfunc.PythonModel):\n",
    "\n",
    "    def __init__(self, n):\n",
    "        self.n = n\n",
    "\n",
    "    def predict(self, context, model_input):\n",
    "        return model_input.apply(lambda column: column + self.n)"
   ]
  },
  {
   "cell_type": "markdown",
   "metadata": {},
   "source": [
    "Construct and save the model."
   ]
  },
  {
   "cell_type": "code",
   "execution_count": null,
   "metadata": {},
   "outputs": [],
   "source": [
    "model_path = \"add_n_model2\"\n",
    "add5_model = AddN(n=5)\n",
    "\n",
    "mlflow.pyfunc.save_model(dst_path=model_path, python_model=add5_model)"
   ]
  },
  {
   "cell_type": "markdown",
   "metadata": {},
   "source": [
    "Load the model in `python_function` format"
   ]
  },
  {
   "cell_type": "code",
   "execution_count": 30,
   "metadata": {},
   "outputs": [
    {
     "data": {
      "text/plain": [
       "mlflow.pyfunc.model._PythonModelPyfuncWrapper"
      ]
     },
     "execution_count": 30,
     "metadata": {},
     "output_type": "execute_result"
    }
   ],
   "source": [
    "loaded_model = mlflow.pyfunc.load_pyfunc(model_path)\n",
    "type(loaded_model)"
   ]
  },
  {
   "cell_type": "markdown",
   "metadata": {},
   "source": [
    "Evaluate the model."
   ]
  },
  {
   "cell_type": "code",
   "execution_count": 31,
   "metadata": {},
   "outputs": [
    {
     "data": {
      "text/html": [
       "<div>\n",
       "<style scoped>\n",
       "    .dataframe tbody tr th:only-of-type {\n",
       "        vertical-align: middle;\n",
       "    }\n",
       "\n",
       "    .dataframe tbody tr th {\n",
       "        vertical-align: top;\n",
       "    }\n",
       "\n",
       "    .dataframe thead th {\n",
       "        text-align: right;\n",
       "    }\n",
       "</style>\n",
       "<table border=\"1\" class=\"dataframe\">\n",
       "  <thead>\n",
       "    <tr style=\"text-align: right;\">\n",
       "      <th></th>\n",
       "      <th>0</th>\n",
       "      <th>1</th>\n",
       "      <th>2</th>\n",
       "      <th>3</th>\n",
       "      <th>4</th>\n",
       "      <th>5</th>\n",
       "      <th>6</th>\n",
       "      <th>7</th>\n",
       "      <th>8</th>\n",
       "      <th>9</th>\n",
       "    </tr>\n",
       "  </thead>\n",
       "  <tbody>\n",
       "    <tr>\n",
       "      <th>0</th>\n",
       "      <td>5</td>\n",
       "      <td>6</td>\n",
       "      <td>7</td>\n",
       "      <td>8</td>\n",
       "      <td>9</td>\n",
       "      <td>10</td>\n",
       "      <td>11</td>\n",
       "      <td>12</td>\n",
       "      <td>13</td>\n",
       "      <td>14</td>\n",
       "    </tr>\n",
       "  </tbody>\n",
       "</table>\n",
       "</div>"
      ],
      "text/plain": [
       "   0  1  2  3  4   5   6   7   8   9\n",
       "0  5  6  7  8  9  10  11  12  13  14"
      ]
     },
     "execution_count": 31,
     "metadata": {},
     "output_type": "execute_result"
    }
   ],
   "source": [
    "import pandas as pd\n",
    "\n",
    "model_input = pd.DataFrame([range(10)])\n",
    "model_output = loaded_model.predict(model_input)\n",
    "\n",
    "assert model_output.equals(pd.DataFrame([range(5, 15)]))\n",
    "\n",
    "model_output"
   ]
  },
  {
   "cell_type": "markdown",
   "metadata": {},
   "source": [
    "## Review\n",
    "**Question:** How do MLflow projects differ from models?  \n",
    "**Answer:** The focus of MLflow projects is reproducibility of runs and packaging of code.  MLflow models focuses on various deployment environments.\n",
    "\n",
    "**Question:** What is a ML model flavor?  \n",
    "**Answer:** Flavors are a convention that deployment tools can use to understand the model, which makes it possible to write tools that work with models from any ML library without having to integrate each tool with each library.  Instead of having to map each training environment to a deployment environment, ML model flavors manages this mapping for you.\n",
    "\n",
    "**Question:** How do I add pre and post processing logic to my models?  \n",
    "**Answer:** A model class that extends `mlflow.pyfunc.PythonModel` allows you to have load, pre-processing, and post-processing logic."
   ]
  },
  {
   "cell_type": "markdown",
   "metadata": {},
   "source": [
    "## Next Steps\n",
    "\n",
    "Start the next lesson, [Production Issues]($./05-Production-Issues )."
   ]
  },
  {
   "cell_type": "markdown",
   "metadata": {},
   "source": [
    "## Additional Topics & Resources\n",
    "\n",
    "**Q:** Where can I find out more information on MLflow Models?\n",
    "**A:** Check out <a href=\"https://www.mlflow.org/docs/latest/models.html\" target=\"_blank\">the MLflow documentation</a>"
   ]
  },
  {
   "cell_type": "markdown",
   "metadata": {},
   "source": [
    "-sandbox\n",
    "&copy; 2019 Databricks, Inc. All rights reserved.<br/>\n",
    "Apache, Apache Spark, Spark and the Spark logo are trademarks of the <a href=\"http://www.apache.org/\">Apache Software Foundation</a>.<br/>\n",
    "<br/>\n",
    "<a href=\"https://databricks.com/privacy-policy\">Privacy Policy</a> | <a href=\"https://databricks.com/terms-of-use\">Terms of Use</a> | <a href=\"http://help.databricks.com/\">Support</a>"
   ]
  }
 ],
 "metadata": {
  "kernelspec": {
   "display_name": "Python 3",
   "language": "python",
   "name": "python3"
  },
  "language_info": {
   "codemirror_mode": {
    "name": "ipython",
    "version": 3
   },
   "file_extension": ".py",
   "mimetype": "text/x-python",
   "name": "python",
   "nbconvert_exporter": "python",
   "pygments_lexer": "ipython3",
   "version": "3.6.6"
  },
  "name": "04-Model-Management",
  "notebookId": 1740582607889901
 },
 "nbformat": 4,
 "nbformat_minor": 1
}
