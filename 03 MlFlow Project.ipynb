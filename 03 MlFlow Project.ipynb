{
 "cells": [
  {
   "cell_type": "markdown",
   "metadata": {},
   "source": [
    "## Docker example:\n",
    "https://github.com/mlflow/mlflow/tree/master/examples/docker"
   ]
  },
  {
   "cell_type": "markdown",
   "metadata": {},
   "source": [
    "# Demo MlFlow Project"
   ]
  },
  {
   "cell_type": "code",
   "execution_count": 53,
   "metadata": {},
   "outputs": [
    {
     "name": "stderr",
     "output_type": "stream",
     "text": [
      "WARNING:root:Experiment ID mismatch for exp 3. ID recorded as '3' in meta data. Experiment will be ignored.\n",
      "NoneType: None\n",
      "WARNING:root:Experiment ID mismatch for exp 3. ID recorded as '3' in meta data. Experiment will be ignored.\n",
      "Traceback (most recent call last):\n",
      "  File \"<ipython-input-53-fd2a321d0269>\", line 8, in <module>\n",
      "    experimentID = mlflow.create_experiment(experimentPath)\n",
      "  File \"/Users/azeltov/miniconda3/envs/azure_automl/lib/python3.6/site-packages/mlflow/tracking/fluent.py\", line 239, in create_experiment\n",
      "    \"\"\"\n",
      "  File \"/Users/azeltov/miniconda3/envs/azure_automl/lib/python3.6/site-packages/mlflow/tracking/client.py\", line 101, in create_experiment\n",
      "    source_version=source_version\n",
      "  File \"/Users/azeltov/miniconda3/envs/azure_automl/lib/python3.6/site-packages/mlflow/store/file_store.py\", line 170, in create_experiment\n",
      "    str(exp_id), str(rnfe), exc_info=True)\n",
      "mlflow.exceptions.MlflowException: Experiment 'experiment-L3' already exists.\n",
      "WARNING:root:Experiment ID mismatch for exp 3. ID recorded as '3' in meta data. Experiment will be ignored.\n",
      "Traceback (most recent call last):\n",
      "  File \"<ipython-input-53-fd2a321d0269>\", line 8, in <module>\n",
      "    experimentID = mlflow.create_experiment(experimentPath)\n",
      "  File \"/Users/azeltov/miniconda3/envs/azure_automl/lib/python3.6/site-packages/mlflow/tracking/fluent.py\", line 239, in create_experiment\n",
      "    \"\"\"\n",
      "  File \"/Users/azeltov/miniconda3/envs/azure_automl/lib/python3.6/site-packages/mlflow/tracking/client.py\", line 101, in create_experiment\n",
      "    source_version=source_version\n",
      "  File \"/Users/azeltov/miniconda3/envs/azure_automl/lib/python3.6/site-packages/mlflow/store/file_store.py\", line 170, in create_experiment\n",
      "    str(exp_id), str(rnfe), exc_info=True)\n",
      "mlflow.exceptions.MlflowException: Experiment 'experiment-L3' already exists.\n"
     ]
    },
    {
     "name": "stdout",
     "output_type": "stream",
     "text": [
      "The experiment can be found at the path `experiment-L3` and has an experiment_id of `2`\n"
     ]
    }
   ],
   "source": [
    "import mlflow\n",
    "from mlflow.exceptions import MlflowException\n",
    "from  mlflow.tracking import MlflowClient\n",
    "\n",
    "experimentPath = \"experiment-L3\"\n",
    "\n",
    "try:\n",
    "  experimentID = mlflow.create_experiment(experimentPath)\n",
    "except MlflowException:\n",
    "  experimentID = MlflowClient().get_experiment_by_name(experimentPath).experiment_id\n",
    "  mlflow.set_experiment(experimentPath)\n",
    "\n",
    "print(\"The experiment can be found at the path `{}` and has an experiment_id of `{}`\".format(experimentPath, experimentID))"
   ]
  },
  {
   "cell_type": "markdown",
   "metadata": {},
   "source": [
    "%%sh\n",
    "mkdir experiment-L3"
   ]
  },
  {
   "cell_type": "code",
   "execution_count": 31,
   "metadata": {},
   "outputs": [],
   "source": [
    "import click\n",
    "import numpy as np\n",
    "import mlflow.sklearn\n",
    "import pandas as pd\n",
    "from sklearn.ensemble import RandomForestRegressor\n",
    "from sklearn.metrics import mean_squared_error, mean_absolute_error, r2_score\n",
    "from sklearn.model_selection import train_test_split\n",
    "\n",
    "@click.command()\n",
    "@click.option(\"--data_path\", default=\"airbnb-cleaned-mlflow.csv\", type=str)\n",
    "@click.option(\"--n_estimators\", default=10, type=int)\n",
    "@click.option(\"--max_depth\", default=20, type=int)\n",
    "@click.option(\"--max_features\", default=\"auto\", type=str)\n",
    "@click.option(\"--experiment_id\", default=0, type=int)\n",
    "@click.option(\"--run_name\", default=\"experiment-L3\", type=str)\n",
    "def mlflow_rf(data_path, n_estimators, max_depth, max_features,experiment_id,run_name):\n",
    "\n",
    "  with mlflow.start_run(experiment_id=experiment_id, run_name=run_name) as run:\n",
    "    # Import the data\n",
    "    df = pd.read_csv(data_path)\n",
    "    X_train, X_test, y_train, y_test = train_test_split(df.drop([\"price\"], axis=1), df[[\"price\"]].values.ravel(), random_state=42)\n",
    "    \n",
    "    # Create model, train it, and create predictions\n",
    "    rf = RandomForestRegressor(n_estimators=n_estimators, max_depth=max_depth, max_features=max_features)\n",
    "    rf.fit(X_train, y_train)\n",
    "    predictions = rf.predict(X_test)\n",
    "\n",
    "    # Log model\n",
    "    mlflow.sklearn.log_model(rf, \"random-forest-model\")\n",
    "    \n",
    "    # Log params\n",
    "    mlflow.log_param(\"n_estimators\", n_estimators)\n",
    "    mlflow.log_param(\"max_depth\", max_depth)\n",
    "    mlflow.log_param(\"max_features\", max_features)\n",
    "\n",
    "    # Log metrics\n",
    "    mse = mean_squared_error(y_test, predictions)\n",
    "    rmse = np.sqrt(mse)\n",
    "    mlflow.log_metric(\"mse\",mse )\n",
    "    mlflow.log_metric(\"rmse\",rmse )    \n",
    "    mlflow.log_metric(\"mae\", mean_absolute_error(y_test, predictions))  \n",
    "    mlflow.log_metric(\"r2\", r2_score(y_test, predictions))  \n",
    "    \n",
    "\n",
    "# if __name__ == \"__main__\":\n",
    "#   mlflow_rf() # Note that this does not need arguments thanks to click"
   ]
  },
  {
   "cell_type": "code",
   "execution_count": 29,
   "metadata": {},
   "outputs": [],
   "source": [
    "#mlflow_rf(\"airbnb-cleaned-mlflow.csv\",10 ,20,\"auto\",2,\"experiment-L3\")"
   ]
  },
  {
   "cell_type": "code",
   "execution_count": 32,
   "metadata": {},
   "outputs": [
    {
     "name": "stdout",
     "output_type": "stream",
     "text": [
      "Success!\n"
     ]
    }
   ],
   "source": [
    "from click.testing import CliRunner\n",
    "\n",
    "runner = CliRunner()\n",
    "result = runner.invoke(mlflow_rf, ['--n_estimators', 10, '--max_depth', 20, '--experiment_id', experimentID], catch_exceptions=True)\n",
    "\n",
    "assert result.exit_code == 0, \"Code failed\" # Check to see that it worked\n",
    "\n",
    "print(\"Success!\")"
   ]
  },
  {
   "cell_type": "code",
   "execution_count": 9,
   "metadata": {},
   "outputs": [],
   "source": [
    "%%sh\n",
    "mkdir ml-production/mlflow-model-training"
   ]
  },
  {
   "cell_type": "code",
   "execution_count": 48,
   "metadata": {},
   "outputs": [
    {
     "name": "stdout",
     "output_type": "stream",
     "text": [
      "total 1112\n",
      "drwxr-xr-x@ 6 azeltov  staff     192 May 14 13:23 .\n",
      "drwxr-xr-x@ 5 azeltov  staff     160 May  8 12:50 ..\n",
      "-rw-r--r--@ 1 azeltov  staff     433 May 14 13:14 MLproject\n",
      "-rw-r--r--@ 1 azeltov  staff  554979 May  8 11:13 airbnb-cleaned-mlflow.csv\n",
      "-rw-r--r--@ 1 azeltov  staff     170 May 14 13:14 conda.yaml\n",
      "-rw-r--r--@ 1 azeltov  staff    2329 May  8 13:21 train.py\n"
     ]
    }
   ],
   "source": [
    "%%sh\n",
    "ls -al ml-production/mlflow-model-training"
   ]
  },
  {
   "cell_type": "code",
   "execution_count": 49,
   "metadata": {},
   "outputs": [
    {
     "name": "stdout",
     "output_type": "stream",
     "text": [
      "name: Lesson-3-Model-Training\n",
      "\n",
      "conda_env: conda.yaml\n",
      "\n",
      "entry_points:\n",
      "  main:\n",
      "    parameters:\n",
      "      data_path: {type: str, default: \"airbnb-cleaned-mlflow.csv\"}\n",
      "      n_estimators: {type: int, default: 10}\n",
      "      max_depth: {type: int, default: 20}\n",
      "      max_features: {type: str, default: \"auto\"}\n",
      "    command: \"python train.py --data_path {data_path} --n_estimators {n_estimators} --max_depth {max_depth} --max_features {max_features}\""
     ]
    }
   ],
   "source": [
    "%%sh \n",
    "cat ml-production/mlflow-model-training/MLproject"
   ]
  },
  {
   "cell_type": "code",
   "execution_count": 50,
   "metadata": {},
   "outputs": [
    {
     "name": "stdout",
     "output_type": "stream",
     "text": [
      "name: ExperimentDemo-03\n",
      "channels:\n",
      "  - defaults\n",
      "dependencies:\n",
      "  - cloudpickle=0.5.3\n",
      "  - numpy=1.14.3\n",
      "  - pandas=0.23.0\n",
      "  - scikit-learn=0.19.1\n",
      "  - pip:\n",
      "    - mlflow==0.9.1"
     ]
    }
   ],
   "source": [
    "%%sh \n",
    "cat ml-production/mlflow-model-training/conda.yaml"
   ]
  },
  {
   "cell_type": "code",
   "execution_count": 51,
   "metadata": {},
   "outputs": [
    {
     "name": "stdout",
     "output_type": "stream",
     "text": [
      "import mlflow\n",
      "from mlflow.exceptions import MlflowException\n",
      "from mlflow.tracking import MlflowClient\n",
      "\n",
      "\n",
      "import click\n",
      "import mlflow.sklearn\n",
      "import pandas as pd\n",
      "from sklearn.ensemble import RandomForestRegressor\n",
      "from sklearn.metrics import mean_squared_error, mean_absolute_error, r2_score\n",
      "from sklearn.model_selection import train_test_split\n",
      "\n",
      "experimentPath = \"experiment-L3\"\n",
      "\n",
      "try:\n",
      "  experimentID = mlflow.create_experiment(experimentPath)\n",
      "except MlflowException:\n",
      "  experimentID = MlflowClient().get_experiment_by_name(experimentPath).experiment_id\n",
      "  mlflow.set_experiment(experimentPath)\n",
      "\n",
      "print(\"The experiment can be found at the path `{}` and has an experiment_id of `{}`\".format(experimentPath, experimentID))\n",
      "\n",
      "\n",
      "@click.command()\n",
      "@click.option(\"--data_path\", default=\"airbnb-cleaned-mlflow.csv\", type=str)\n",
      "@click.option(\"--n_estimators\", default=10, type=int)\n",
      "@click.option(\"--max_depth\", default=20, type=int)\n",
      "@click.option(\"--max_features\", default=\"auto\", type=str)\n",
      "@click.option(\"--experiment_id\", default=experimentID, type=int)\n",
      "@click.option(\"--run_name\", default=\"experiment-L3\", type=str)\n",
      "def mlflow_rf(data_path, n_estimators, max_depth, max_features,experiment_id,run_name):\n",
      "\n",
      "  with mlflow.start_run(experiment_id=experiment_id, run_name=run_name) as run:\n",
      "    # Import the data\n",
      "    df = pd.read_csv(data_path)\n",
      "    X_train, X_test, y_train, y_test = train_test_split(df.drop([\"price\"], axis=1), df[[\"price\"]].values.ravel(), random_state=42)\n",
      "    \n",
      "    # Create model, train it, and create predictions\n",
      "    rf = RandomForestRegressor(n_estimators=n_estimators, max_depth=max_depth, max_features=max_features)\n",
      "    rf.fit(X_train, y_train)\n",
      "    predictions = rf.predict(X_test)\n",
      "\n",
      "    # Log model\n",
      "    mlflow.sklearn.log_model(rf, \"random-forest-model\")\n",
      "    \n",
      "    # Log params\n",
      "    mlflow.log_param(\"n_estimators\", n_estimators)\n",
      "    mlflow.log_param(\"max_depth\", max_depth)\n",
      "    mlflow.log_param(\"max_features\", max_features)\n",
      "\n",
      "    # Log metrics\n",
      "    mlflow.log_metric(\"mse\", mean_squared_error(y_test, predictions))\n",
      "    mlflow.log_metric(\"mae\", mean_absolute_error(y_test, predictions))  \n",
      "    mlflow.log_metric(\"r2\", r2_score(y_test, predictions))  \n",
      "\n",
      "## To run --n_estimators', 10, '--max_depth', 20, '--experiment_id', experimentID\n",
      "\n",
      "if __name__ == \"__main__\":\n",
      "   mlflow_rf() # Note that this does not need arguments thanks to click"
     ]
    }
   ],
   "source": [
    "%%sh \n",
    "cat ml-production/mlflow-model-training/train.py"
   ]
  },
  {
   "cell_type": "markdown",
   "metadata": {},
   "source": [
    "## Demo MlFlow Run using SDK"
   ]
  },
  {
   "cell_type": "code",
   "execution_count": 40,
   "metadata": {},
   "outputs": [
    {
     "name": "stderr",
     "output_type": "stream",
     "text": [
      "2019/05/14 13:23:17 INFO mlflow.projects: === Creating conda environment mlflow-3ac087c524740ffd4971ebd574911fe7d41ee4df ===\n",
      "2019/05/14 13:23:51 INFO mlflow.projects: === Created directory /var/folders/lg/nddnlchd075brd12q3x_6lm40000gn/T/tmp2qyanxld for downloading remote URIs passed to arguments of type 'path' ===\n",
      "2019/05/14 13:23:51 INFO mlflow.projects: === Running command 'source activate mlflow-3ac087c524740ffd4971ebd574911fe7d41ee4df && python train.py --data_path /Users/azeltov/git/mlflowdemo/airbnb-cleaned-mlflow.csv --n_estimators 10 --max_depth 20 --max_features auto' in run with ID 'f391a7b2e42e4b5baa82a9a73e15d557' === \n",
      "2019/05/14 13:23:53 INFO mlflow.projects: === Run (ID 'f391a7b2e42e4b5baa82a9a73e15d557') succeeded ===\n"
     ]
    },
    {
     "data": {
      "text/plain": [
       "<mlflow.projects.submitted_run.LocalSubmittedRun at 0x11b865160>"
      ]
     },
     "execution_count": 40,
     "metadata": {},
     "output_type": "execute_result"
    }
   ],
   "source": [
    "import mlflow\n",
    "\n",
    "mlflow.projects.run('/Users/azeltov/git/mlflowdemo/ml-production/mlflow-model-training',\n",
    "  parameters={\n",
    "    \"data_path\": \"/Users/azeltov/git/mlflowdemo/airbnb-cleaned-mlflow.csv\",\n",
    "    \"n_estimators\": 10,\n",
    "    \"max_depth\": 20,\n",
    "    \"max_features\": \"auto\"\n",
    "})"
   ]
  },
  {
   "cell_type": "markdown",
   "metadata": {},
   "source": [
    "## Demo MlFlow Run using Python Direct"
   ]
  },
  {
   "cell_type": "code",
   "execution_count": 44,
   "metadata": {},
   "outputs": [
    {
     "name": "stdout",
     "output_type": "stream",
     "text": [
      "The experiment can be found at the path `experiment-L3` and has an experiment_id of `2`\n"
     ]
    },
    {
     "name": "stderr",
     "output_type": "stream",
     "text": [
      "/Users/azeltov/miniconda3/envs/azure_automl/lib/python3.6/site-packages/sklearn/ensemble/weight_boosting.py:29: DeprecationWarning: numpy.core.umath_tests is an internal NumPy module and should not be imported. It will be removed in a future NumPy release.\n",
      "  from numpy.core.umath_tests import inner1d\n"
     ]
    }
   ],
   "source": [
    "%%sh\n",
    "python  ml-production/mlflow-model-training/train.py --data_path /Users/azeltov/git/mlflowdemo/airbnb-cleaned-mlflow.csv --n_estimators 10 --max_depth 20 --max_features auto --experiment_id=2 --run_name=cli"
   ]
  },
  {
   "cell_type": "markdown",
   "metadata": {},
   "source": [
    "## Demo MlFlow Run using MlFlow CLI"
   ]
  },
  {
   "cell_type": "code",
   "execution_count": 42,
   "metadata": {},
   "outputs": [
    {
     "name": "stdout",
     "output_type": "stream",
     "text": [
      "The experiment can be found at the path `experiment-L3` and has an experiment_id of `2`\n"
     ]
    },
    {
     "name": "stderr",
     "output_type": "stream",
     "text": [
      "2019/05/14 13:36:27 INFO mlflow.projects: === Created directory /var/folders/lg/nddnlchd075brd12q3x_6lm40000gn/T/tmpha8mxzab for downloading remote URIs passed to arguments of type 'path' ===\n",
      "2019/05/14 13:36:27 INFO mlflow.projects: === Running command 'source activate mlflow-3ac087c524740ffd4971ebd574911fe7d41ee4df && python train.py --data_path /Users/azeltov/git/mlflowdemo/airbnb-cleaned-mlflow.csv --n_estimators 10 --max_depth 20 --max_features auto' in run with ID '9ff60f3b5fa646c986d6d30816e6c03b' === \n",
      "2019/05/14 13:36:30 INFO mlflow.projects: === Run (ID '9ff60f3b5fa646c986d6d30816e6c03b') succeeded ===\n"
     ]
    }
   ],
   "source": [
    "%%sh\n",
    "\n",
    "mlflow run ml-production/mlflow-model-training/ -P data_path=/Users/azeltov/git/mlflowdemo/airbnb-cleaned-mlflow.csv"
   ]
  },
  {
   "cell_type": "markdown",
   "metadata": {},
   "source": [
    "## Demo MlFlow Run using SDK  - Github example"
   ]
  },
  {
   "cell_type": "code",
   "execution_count": 47,
   "metadata": {},
   "outputs": [
    {
     "name": "stderr",
     "output_type": "stream",
     "text": [
      "2019/05/14 13:43:17 INFO mlflow.projects: === Fetching project from https://github.com/mlflow/mlflow-example into /var/folders/lg/nddnlchd075brd12q3x_6lm40000gn/T/tmpzvf9g6sm ===\n",
      "2019/05/14 13:43:18 INFO mlflow.projects: === Creating conda environment mlflow-3eee9bd7a0713cf80a17bc0a4d659bc9c549efac ===\n",
      "2019/05/14 13:43:42 INFO mlflow.projects: === Created directory /var/folders/lg/nddnlchd075brd12q3x_6lm40000gn/T/tmpxiav1f4u for downloading remote URIs passed to arguments of type 'path' ===\n",
      "2019/05/14 13:43:42 INFO mlflow.projects: === Running command 'source activate mlflow-3eee9bd7a0713cf80a17bc0a4d659bc9c549efac && python train.py 0.4 0.1' in run with ID '4f2959dc526441af9e7f41aaa992e779' === \n",
      "2019/05/14 13:43:44 INFO mlflow.projects: === Run (ID '4f2959dc526441af9e7f41aaa992e779') succeeded ===\n"
     ]
    },
    {
     "data": {
      "text/plain": [
       "<mlflow.projects.submitted_run.LocalSubmittedRun at 0x1a203667f0>"
      ]
     },
     "execution_count": 47,
     "metadata": {},
     "output_type": "execute_result"
    }
   ],
   "source": [
    "mlflow.run(\n",
    "  uri=\"https://github.com/mlflow/mlflow-example\",\n",
    "  parameters={'alpha':0.4}\n",
    ")"
   ]
  },
  {
   "cell_type": "markdown",
   "metadata": {},
   "source": [
    "## Demo MlFlow Run on Remote Cluster Databricks"
   ]
  },
  {
   "cell_type": "code",
   "execution_count": null,
   "metadata": {},
   "outputs": [],
   "source": [
    "# clusterspecs = {\n",
    "#     \"num_workers\": 2,\n",
    "#     \"spark_version\": \"5.3.x-cpu-ml-scala2.11\",\n",
    "#     \"node_type_id\": \"Standard_DS3_v2\",\n",
    "#     \"driver_node_type_id\": \"Standard_DS3_v2\",\n",
    "# }\n",
    "# \n",
    "# mlflow.projects.run(\n",
    "#   uri=train_path.replace(\"dbfs:\",\"/dbfs\"),\n",
    "#   parameters={\n",
    "#     \"data_path\": \"/dbfs/mnt/training/airbnb/sf-listings/airbnb-cleaned-mlflow.csv\",\n",
    "#     \"n_estimators\": 1500,\n",
    "#     \"max_depth\": 5,\n",
    "#     \"max_features\": \"sqrt\"\n",
    "# },\n",
    "#   mode=\"databricks\",\n",
    "#   cluster_spec=clusterspecs\n",
    "# )"
   ]
  }
 ],
 "metadata": {
  "kernelspec": {
   "display_name": "Python (azure_automl)",
   "language": "python",
   "name": "azure_automl"
  },
  "language_info": {
   "codemirror_mode": {
    "name": "ipython",
    "version": 3
   },
   "file_extension": ".py",
   "mimetype": "text/x-python",
   "name": "python",
   "nbconvert_exporter": "python",
   "pygments_lexer": "ipython3",
   "version": "3.6.6"
  }
 },
 "nbformat": 4,
 "nbformat_minor": 2
}
