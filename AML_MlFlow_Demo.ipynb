{
 "cells": [
  {
   "cell_type": "code",
   "execution_count": 51,
   "metadata": {},
   "outputs": [
    {
     "name": "stdout",
     "output_type": "stream",
     "text": [
      "SDK version: 1.0.33\n"
     ]
    }
   ],
   "source": [
    "import mlflow\n",
    "import mlflow.sklearn\n",
    "import azureml.contrib.mlflow\n",
    "import azureml.core\n",
    "from azureml.core import Workspace\n",
    "import matplotlib.pyplot as plt\n",
    "\n",
    "# Check core SDK version number\n",
    "import azureml.core\n",
    "\n",
    "print(\"SDK version:\", azureml.core.VERSION)"
   ]
  },
  {
   "cell_type": "code",
   "execution_count": 52,
   "metadata": {},
   "outputs": [
    {
     "name": "stdout",
     "output_type": "stream",
     "text": [
      "Workspace configuration succeeded. Skip the workspace creation steps below\n"
     ]
    }
   ],
   "source": [
    "from azureml.core import Workspace\n",
    "subscription_id = \"5763fde3-4253-480c-928f-dfe1e8888a57\"\n",
    "resource_group = \"rsrcgrp_amlsdk\"\n",
    "workspace_name = \"amlworkspaceaz\"\n",
    "workspace_region = \"eastus2\"\n",
    "\n",
    "try:\n",
    "    ws = Workspace(subscription_id = subscription_id, resource_group = resource_group, workspace_name = workspace_name)\n",
    "    # write the details of the workspace to a configuration file to the notebook library\n",
    "    ws.write_config()\n",
    "    print(\"Workspace configuration succeeded. Skip the workspace creation steps below\")\n",
    "except:\n",
    "    print(\"Workspace not accessible. Change your parameters or create a new workspace below\")"
   ]
  },
  {
   "cell_type": "code",
   "execution_count": 33,
   "metadata": {},
   "outputs": [],
   "source": [
    "ws = Workspace.from_config()\n",
    "\n",
    "mlflow.set_tracking_uri(ws.get_mlflow_tracking_uri())"
   ]
  },
  {
   "cell_type": "code",
   "execution_count": 54,
   "metadata": {},
   "outputs": [
    {
     "name": "stderr",
     "output_type": "stream",
     "text": [
      "2019/05/20 14:21:12 ERROR mlflow.utils.rest_utils: API request to https://eastus2.experiments.azureml.net/history/v1.0/subscriptions/5763fde3-4253-480c-928f-dfe1e8888a57/resourceGroups/rsrcgrp_amlsdk/providers/Microsoft.MachineLearningServices/workspaces/amlworkspaceaz/api/2.0/preview/mlflow/experiments/create failed with code 500 != 200, retrying up to 2 more times. API response body: {\n",
      "  \"Error\": {\n",
      "    \"Code\": \"ServiceError\",\n",
      "    \"Message\": \"InternalServerError\",\n",
      "    \"Target\": null,\n",
      "    \"Details\": [],\n",
      "    \"InnerError\": null,\n",
      "    \"DebugInfo\": {\n",
      "      \"Type\": \"Microsoft.MachineLearning.RunHistory.Services.MlFlow.Exceptions.ResourceAlreadyExistsException\",\n",
      "      \"Message\": \"Experiment 'AML_MlFlow_Experiment2' already exists.\",\n",
      "      \"StackTrace\": \"   at Microsoft.MachineLearning.RunHistory.Services.MlFlowService.CreateExperiment(Guid workspaceId, String experimentName) in /home/vsts/work/1/s/src/azureml-api/src/RunHistory/Services/MlFlowService.cs:line 94\\n   at Microsoft.MachineLearning.RunHistory.EntryPoints.Api.Controllers.MlFlow.MlFlowController.CreateExperiment(Guid subscriptionId, String resourceGroupName, String workspaceName, CreateExperiment createExperiment) in /home/vsts/work/1/s/src/azureml-api/src/RunHistory/EntryPoints/Api/Controllers/MlFlow/MlFlowController.cs:line 74\\n   at lambda_method(Closure , Object )\\n   at Microsoft.AspNetCore.Mvc.Internal.ControllerActionInvoker.InvokeActionMethodAsync()\\n   at Microsoft.AspNetCore.Mvc.Internal.ControllerActionInvoker.InvokeNextActionFilterAsync()\\n   at Microsoft.AspNetCore.Mvc.Internal.ControllerActionInvoker.Rethrow(ActionExecutedContext context)\\n   at Microsoft.AspNetCore.Mvc.Internal.ControllerActionInvoker.Next(State& next, Scope& scope, Object& state, Boolean& isCompleted)\\n   at Microsoft.AspNetCore.Mvc.Internal.ControllerActionInvoker.InvokeInnerFilterAsync()\\n   at Microsoft.AspNetCore.Mvc.Internal.ResourceInvoker.InvokeNextExceptionFilterAsync()\",\n",
      "      \"InnerException\": null,\n",
      "      \"Data\": {},\n",
      "      \"ErrorResponse\": null\n",
      "    }\n",
      "  },\n",
      "  \"Correlation\": {\n",
      "    \"operation\": \"903ef92a6300834c820e615640f6ca09\",\n",
      "    \"request\": \"Op0hDOg4dL4=\"\n",
      "  },\n",
      "  \"Environment\": \"eastus2\",\n",
      "  \"Location\": \"eastus2\",\n",
      "  \"Time\": \"2019-05-20T18:21:39.3116696+00:00\",\n",
      "  \"error_code\": 3001\n",
      "}\n",
      "2019/05/20 14:21:15 ERROR mlflow.utils.rest_utils: API request to https://eastus2.experiments.azureml.net/history/v1.0/subscriptions/5763fde3-4253-480c-928f-dfe1e8888a57/resourceGroups/rsrcgrp_amlsdk/providers/Microsoft.MachineLearningServices/workspaces/amlworkspaceaz/api/2.0/preview/mlflow/experiments/create failed with code 500 != 200, retrying up to 1 more times. API response body: {\n",
      "  \"Error\": {\n",
      "    \"Code\": \"ServiceError\",\n",
      "    \"Message\": \"InternalServerError\",\n",
      "    \"Target\": null,\n",
      "    \"Details\": [],\n",
      "    \"InnerError\": null,\n",
      "    \"DebugInfo\": {\n",
      "      \"Type\": \"Microsoft.MachineLearning.RunHistory.Services.MlFlow.Exceptions.ResourceAlreadyExistsException\",\n",
      "      \"Message\": \"Experiment 'AML_MlFlow_Experiment2' already exists.\",\n",
      "      \"StackTrace\": \"   at Microsoft.MachineLearning.RunHistory.Services.MlFlowService.CreateExperiment(Guid workspaceId, String experimentName) in /home/vsts/work/1/s/src/azureml-api/src/RunHistory/Services/MlFlowService.cs:line 94\\n   at Microsoft.MachineLearning.RunHistory.EntryPoints.Api.Controllers.MlFlow.MlFlowController.CreateExperiment(Guid subscriptionId, String resourceGroupName, String workspaceName, CreateExperiment createExperiment) in /home/vsts/work/1/s/src/azureml-api/src/RunHistory/EntryPoints/Api/Controllers/MlFlow/MlFlowController.cs:line 74\\n   at lambda_method(Closure , Object )\\n   at Microsoft.AspNetCore.Mvc.Internal.ControllerActionInvoker.InvokeActionMethodAsync()\\n   at Microsoft.AspNetCore.Mvc.Internal.ControllerActionInvoker.InvokeNextActionFilterAsync()\\n   at Microsoft.AspNetCore.Mvc.Internal.ControllerActionInvoker.Rethrow(ActionExecutedContext context)\\n   at Microsoft.AspNetCore.Mvc.Internal.ControllerActionInvoker.Next(State& next, Scope& scope, Object& state, Boolean& isCompleted)\\n   at Microsoft.AspNetCore.Mvc.Internal.ControllerActionInvoker.InvokeInnerFilterAsync()\\n   at Microsoft.AspNetCore.Mvc.Internal.ResourceInvoker.InvokeNextExceptionFilterAsync()\",\n",
      "      \"InnerException\": null,\n",
      "      \"Data\": {},\n",
      "      \"ErrorResponse\": null\n",
      "    }\n",
      "  },\n",
      "  \"Correlation\": {\n",
      "    \"operation\": \"8a27270c331cba4899bbedf5320d331b\",\n",
      "    \"request\": \"U+NXESbCI+o=\"\n",
      "  },\n",
      "  \"Environment\": \"eastus2\",\n",
      "  \"Location\": \"eastus2\",\n",
      "  \"Time\": \"2019-05-20T18:21:42.51304+00:00\",\n",
      "  \"error_code\": 3001\n",
      "}\n",
      "2019/05/20 14:21:19 ERROR mlflow.utils.rest_utils: API request to https://eastus2.experiments.azureml.net/history/v1.0/subscriptions/5763fde3-4253-480c-928f-dfe1e8888a57/resourceGroups/rsrcgrp_amlsdk/providers/Microsoft.MachineLearningServices/workspaces/amlworkspaceaz/api/2.0/preview/mlflow/experiments/create failed with code 500 != 200, retrying up to 0 more times. API response body: {\n",
      "  \"Error\": {\n",
      "    \"Code\": \"ServiceError\",\n",
      "    \"Message\": \"InternalServerError\",\n",
      "    \"Target\": null,\n",
      "    \"Details\": [],\n",
      "    \"InnerError\": null,\n",
      "    \"DebugInfo\": {\n",
      "      \"Type\": \"Microsoft.MachineLearning.RunHistory.Services.MlFlow.Exceptions.ResourceAlreadyExistsException\",\n",
      "      \"Message\": \"Experiment 'AML_MlFlow_Experiment2' already exists.\",\n",
      "      \"StackTrace\": \"   at Microsoft.MachineLearning.RunHistory.Services.MlFlowService.CreateExperiment(Guid workspaceId, String experimentName) in /home/vsts/work/1/s/src/azureml-api/src/RunHistory/Services/MlFlowService.cs:line 94\\n   at Microsoft.MachineLearning.RunHistory.EntryPoints.Api.Controllers.MlFlow.MlFlowController.CreateExperiment(Guid subscriptionId, String resourceGroupName, String workspaceName, CreateExperiment createExperiment) in /home/vsts/work/1/s/src/azureml-api/src/RunHistory/EntryPoints/Api/Controllers/MlFlow/MlFlowController.cs:line 74\\n   at lambda_method(Closure , Object )\\n   at Microsoft.AspNetCore.Mvc.Internal.ControllerActionInvoker.InvokeActionMethodAsync()\\n   at Microsoft.AspNetCore.Mvc.Internal.ControllerActionInvoker.InvokeNextActionFilterAsync()\\n   at Microsoft.AspNetCore.Mvc.Internal.ControllerActionInvoker.Rethrow(ActionExecutedContext context)\\n   at Microsoft.AspNetCore.Mvc.Internal.ControllerActionInvoker.Next(State& next, Scope& scope, Object& state, Boolean& isCompleted)\\n   at Microsoft.AspNetCore.Mvc.Internal.ControllerActionInvoker.InvokeInnerFilterAsync()\\n   at Microsoft.AspNetCore.Mvc.Internal.ResourceInvoker.InvokeNextExceptionFilterAsync()\",\n",
      "      \"InnerException\": null,\n",
      "      \"Data\": {},\n",
      "      \"ErrorResponse\": null\n",
      "    }\n",
      "  },\n",
      "  \"Correlation\": {\n",
      "    \"operation\": \"130f58d361778b44bea3d2233c3bfc75\",\n",
      "    \"request\": \"uvhCX2i6Z9c=\"\n",
      "  },\n",
      "  \"Environment\": \"eastus2\",\n",
      "  \"Location\": \"eastus2\",\n",
      "  \"Time\": \"2019-05-20T18:21:46.0498063+00:00\",\n",
      "  \"error_code\": 3001\n",
      "}\n"
     ]
    },
    {
     "name": "stdout",
     "output_type": "stream",
     "text": [
      "The experiment can be found at the path `AML_MlFlow_Experiment2` and has an experiment_id of `1fae32a0-dd68-487a-9a27-3d0427186e0c`\n"
     ]
    }
   ],
   "source": [
    "import mlflow\n",
    "from mlflow.exceptions import MlflowException\n",
    "from  mlflow.tracking import MlflowClient\n",
    "\n",
    "#experimentPath = \"/Users/\" + username + \"/AML_MlFlow_Experiment\"\n",
    "experimentPath = \"AML_MlFlow_Experiment2\"\n",
    "\n",
    "try:\n",
    "  experimentID = mlflow.create_experiment(experimentPath)\n",
    "except MlflowException:\n",
    "  experimentID = MlflowClient().get_experiment_by_name(experimentPath).experiment_id\n",
    "  mlflow.set_experiment(experimentPath)\n",
    "\n",
    "print(\"The experiment can be found at the path `{}` and has an experiment_id of `{}`\".format(experimentPath, experimentID))"
   ]
  },
  {
   "cell_type": "markdown",
   "metadata": {},
   "source": [
    "experiment_name = \"AI_Airlft\"\n",
    "mlflow.set_experiment(experiment_name)"
   ]
  },
  {
   "cell_type": "code",
   "execution_count": 59,
   "metadata": {},
   "outputs": [],
   "source": [
    "import pandas as pd\n",
    "from sklearn.model_selection import train_test_split\n",
    "\n",
    "df = pd.read_csv(\"airbnb-cleaned-mlflow.csv\")\n",
    "X_train, X_test, y_train, y_test = train_test_split(df.drop([\"price\"], axis=1), df[[\"price\"]].values.ravel(), random_state=42)"
   ]
  },
  {
   "cell_type": "code",
   "execution_count": 63,
   "metadata": {},
   "outputs": [
    {
     "name": "stdout",
     "output_type": "stream",
     "text": [
      "  mse: 6529.607485131691\n",
      "  R2: 0.6811675600728937\n",
      "Inside MLflow Run with run_id 94a489aa-4ef5-4d98-9444-d3c9ef31c31d and experiment_id 1fae32a0-dd68-487a-9a27-3d0427186e0c\n"
     ]
    }
   ],
   "source": [
    "import mlflow.sklearn\n",
    "from sklearn.ensemble import RandomForestRegressor\n",
    "from sklearn.metrics import mean_squared_error, mean_absolute_error, r2_score\n",
    "\n",
    "with mlflow.start_run(experiment_id=experimentID,run_name=\"Basic RF Experiment\") as run:\n",
    "  # Create model, train it, and create predictions\n",
    "  rf = RandomForestRegressor()\n",
    "  rf.fit(X_train, y_train)\n",
    "  predictions = rf.predict(X_test)\n",
    "  \n",
    "  # Log model\n",
    "  mlflow.sklearn.log_model(rf, \"random-forest-model\")\n",
    "  \n",
    "  # Create metrics\n",
    "  mse = mean_squared_error(y_test, predictions)\n",
    "  r2 = r2_score(y_test, predictions)  \n",
    "  print(\"  mse: {}\".format(mse))\n",
    "  print(\"  R2: {}\".format(r2))\n",
    "\n",
    "  runID = run.info.run_uuid\n",
    "  experimentID = run.info.experiment_id\n",
    "  print(\"Inside MLflow Run with run_id {} and experiment_id {}\".format(runID, experimentID))\n",
    "    \n",
    "    # Log metrics\n",
    "  mlflow.log_metric(\"mse\", mse)\n",
    "  \n"
   ]
  },
  {
   "cell_type": "code",
   "execution_count": 64,
   "metadata": {},
   "outputs": [
    {
     "data": {
      "text/html": [
       "<table style=\"width:100%\"><tr><th>Name</th><th>Workspace</th><th>Report Page</th><th>Docs Page</th></tr><tr><td>AML_MlFlow_Experiment2</td><td>amlworkspaceaz</td><td><a href=\"https://mlworkspace.azure.ai/portal/subscriptions/5763fde3-4253-480c-928f-dfe1e8888a57/resourceGroups/rsrcgrp_amlsdk/providers/Microsoft.MachineLearningServices/workspaces/amlworkspaceaz/experiments/AML_MlFlow_Experiment2\" target=\"_blank\" rel=\"noopener\">Link to Azure Portal</a></td><td><a href=\"https://docs.microsoft.com/en-us/python/api/azureml-core/azureml.core.experiment.Experiment?view=azure-ml-py\" target=\"_blank\" rel=\"noopener\">Link to Documentation</a></td></tr></table>"
      ],
      "text/plain": [
       "Experiment(Name: AML_MlFlow_Experiment2,\n",
       "Workspace: amlworkspaceaz)"
      ]
     },
     "execution_count": 64,
     "metadata": {},
     "output_type": "execute_result"
    }
   ],
   "source": [
    "ws.experiments[experimentPath]"
   ]
  },
  {
   "cell_type": "code",
   "execution_count": 70,
   "metadata": {},
   "outputs": [
    {
     "name": "stdout",
     "output_type": "stream",
     "text": [
      "Registering model random-forest-model\n"
     ]
    },
    {
     "name": "stderr",
     "output_type": "stream",
     "text": [
      "2019/05/20 16:28:34 INFO mlflow.azureml: Registered an Azure Model with name: `random-forest-model` and version: `4`\n"
     ]
    },
    {
     "name": "stdout",
     "output_type": "stream",
     "text": [
      "Creating image\n"
     ]
    },
    {
     "name": "stderr",
     "output_type": "stream",
     "text": [
      "2019/05/20 16:28:43 INFO mlflow.azureml: Building an Azure Container Image with name: `random-forest-model` and version: `4`\n"
     ]
    }
   ],
   "source": [
    "import mlflow.azureml\n",
    "\n",
    "model_image, azure_model = mlflow.azureml.build_image(model_path=\"random-forest-model\", \n",
    "                                                      workspace=ws, \n",
    "                                                    \n",
    "                                                      model_name=\"random-forest-model\",\n",
    "                                                      image_name=\"random-forest-model\",\n",
    "                                                      description=\"airbnb random-forest-model\", \n",
    "                                                      tags={\n",
    "                                                        \"mse\": str(mse),\n",
    "                                                        \"r2\": str(r2),\n",
    "                                                      },\n",
    "                                                      synchronous=False)"
   ]
  },
  {
   "cell_type": "code",
   "execution_count": 42,
   "metadata": {},
   "outputs": [
    {
     "data": {
      "text/plain": [
       "azureml.core.image.container.ContainerImage"
      ]
     },
     "execution_count": 42,
     "metadata": {},
     "output_type": "execute_result"
    }
   ],
   "source": [
    "type(model_image)"
   ]
  },
  {
   "cell_type": "code",
   "execution_count": 43,
   "metadata": {},
   "outputs": [
    {
     "data": {
      "text/plain": [
       "azureml.core.model.Model"
      ]
     },
     "execution_count": 43,
     "metadata": {},
     "output_type": "execute_result"
    }
   ],
   "source": [
    "type(azure_model)"
   ]
  },
  {
   "cell_type": "code",
   "execution_count": 41,
   "metadata": {},
   "outputs": [
    {
     "name": "stdout",
     "output_type": "stream",
     "text": [
      "Running............\n",
      "SucceededImage creation operation finished for image random-forest-model:1, operation \"Succeeded\"\n"
     ]
    }
   ],
   "source": [
    "model_image.wait_for_creation(show_output=True)"
   ]
  },
  {
   "cell_type": "code",
   "execution_count": 44,
   "metadata": {},
   "outputs": [
    {
     "name": "stdout",
     "output_type": "stream",
     "text": [
      "Creating service\n",
      "ACI service creation operation finished, operation \"Succeeded\"\n"
     ]
    }
   ],
   "source": [
    "from azureml.core.webservice import AciWebservice, Webservice\n",
    "\n",
    "# Create the deployment \n",
    "dev_webservice_name = \"airbnb-model\"\n",
    "dev_webservice_deployment_config = AciWebservice.deploy_configuration()\n",
    "dev_webservice = Webservice.deploy_from_image(name=dev_webservice_name, \n",
    "                                              image=model_image, \n",
    "                                              deployment_config=dev_webservice_deployment_config, \n",
    "                                              workspace=ws)\n",
    "\n",
    "# Wait for the image deployment\n",
    "dev_webservice.wait_for_deployment()"
   ]
  },
  {
   "cell_type": "code",
   "execution_count": 46,
   "metadata": {},
   "outputs": [],
   "source": [
    "import numpy as np\n",
    "import pandas as pd\n",
    "from sklearn import datasets\n",
    "\n",
    "data = pd.read_csv(\"airbnb-cleaned-mlflow.csv\")\n",
    "train, _ = train_test_split(data)\n",
    "train_x = train.drop([\"price\"], axis=1)\n",
    "sample = train_x.iloc[[0]]\n",
    "query_input = list(sample.as_matrix().flatten())\n",
    "sample_json = sample.to_json(orient=\"split\")"
   ]
  },
  {
   "cell_type": "code",
   "execution_count": 47,
   "metadata": {},
   "outputs": [],
   "source": [
    "import requests\n",
    "import json\n",
    "\n",
    "def query_endpoint_example(scoring_uri, inputs, service_key=None):\n",
    "  headers = {\n",
    "    \"Content-Type\": \"application/json\",\n",
    "  }\n",
    "  if service_key is not None:\n",
    "    headers[\"Authorization\"] = \"Bearer {service_key}\".format(service_key=service_key)\n",
    "    \n",
    "  print(\"Sending batch prediction request with inputs: {}\".format(inputs))\n",
    "  response = requests.post(scoring_uri, data=inputs, headers=headers)\n",
    "  print(\"Response: {}\".format(response.text))\n",
    "  preds = json.loads(response.text)\n",
    "  print(\"Received response: {}\".format(preds))\n",
    "  return preds"
   ]
  },
  {
   "cell_type": "code",
   "execution_count": 50,
   "metadata": {},
   "outputs": [
    {
     "data": {
      "text/plain": [
       "'http://52.191.221.120:80/score'"
      ]
     },
     "execution_count": 50,
     "metadata": {},
     "output_type": "execute_result"
    }
   ],
   "source": [
    "dev_scoring_uri = dev_webservice.scoring_uri\n",
    "dev_scoring_uri"
   ]
  },
  {
   "cell_type": "code",
   "execution_count": 49,
   "metadata": {},
   "outputs": [
    {
     "name": "stdout",
     "output_type": "stream",
     "text": [
      "Sending batch prediction request with inputs: {\"columns\":[\"host_total_listings_count\",\"neighbourhood_cleansed\",\"zipcode\",\"latitude\",\"longitude\",\"property_type\",\"room_type\",\"accommodates\",\"bathrooms\",\"bedrooms\",\"beds\",\"bed_type\",\"minimum_nights\",\"number_of_reviews\",\"review_scores_rating\",\"review_scores_accuracy\",\"review_scores_cleanliness\",\"review_scores_checkin\",\"review_scores_communication\",\"review_scores_location\",\"review_scores_value\"],\"index\":[3165],\"data\":[[1.0,15,12,37.7798763077,-122.4047214689,6,0,2.0,1.0,1.0,1.0,0,30.0,4.0,100.0,10.0,10.0,10.0,10.0,10.0,10.0]]}\n",
      "Response: [306.9]\n",
      "Received response: [306.9]\n"
     ]
    }
   ],
   "source": [
    "dev_prediction = query_endpoint_example(scoring_uri=dev_scoring_uri, inputs=sample_json)"
   ]
  },
  {
   "cell_type": "code",
   "execution_count": null,
   "metadata": {},
   "outputs": [],
   "source": [
    "dev_webservice.delete()"
   ]
  },
  {
   "cell_type": "markdown",
   "metadata": {},
   "source": [
    "509  az login\n",
    "510  az acr login --name amlworksacrtfhdqmhp\n",
    "511  docker pull amlworksacrtfhdqmhp.azurecr.io/random-forest-model:1\n",
    "512  docker images\n",
    "\n",
    "514  docker run -it --name mlflow --rm amlworksacrtfhdqmhp.azurecr.io/random-forest-model:1 /bin/bash  \n",
    "  \n",
    "alexs-mbp-2:~ azeltov$ docker ps\n",
    "CONTAINER ID        IMAGE                                                  COMMAND                 CREATED             STATUS              PORTS                NAMES\n",
    "0eb033ecbca7        amlworksacrtfhdqmhp.azurecr.io/random-forest-model:1   \"runsvdir /var/runit\"   57 seconds ago      Up 57 seconds       5001/tcp, 8883/tcp   mlflow\n",
    "\n",
    "516  docker run --name mlflow --rm -p 9998:5001 amlworksacrtfhdqmhp.azurecr.io/random-forest-model:1\n",
    " \n",
    "docker stop mlflow\n",
    "\n",
    "==========================================\n",
    "Inside docker\n",
    "==========================================\n",
    "root@accde3169357:/var/azureml-app# ll\n",
    "\n",
    "total 112\n",
    "drwxr-xr-x 1 root root   4096 May 16 20:37 ./\n",
    "drwxr-xr-x 1 root root   4096 Apr 24 19:32 ../\n",
    "-rw-r--r-- 1 root root   8904 Apr 24 19:26 aml_blueprint.py\n",
    "-rw-r--r-- 1 root root    498 Apr 24 19:26 aml_logger.py\n",
    "-rw-r--r-- 1 root root  10593 Apr 24 19:26 app.py\n",
    "drwxr-xr-x 2 root root   4096 Apr 24 19:26 appinsights/\n",
    "drwxr-xr-x 3 root root   4096 Apr 24 19:26 azureml/\n",
    "drwxr-xr-x 3 root root   4096 May 16 20:35 azureml-models/\n",
    "-rw-r--r-- 1 root root    104 May 16 20:37 conda.yaml\n",
    "-rw-r--r-- 1 root root    285 Apr 24 19:26 create_app.py\n",
    "-rw-r--r-- 1  501 staff   520 May 16 20:35 execution_script.py\n",
    "-rw-r--r-- 1 root root   1135 Apr 24 19:26 gunicorn_conf.py\n",
    "-rw-r--r-- 1 root root    392 Apr 24 19:26 gunicorn_logging.conf\n",
    "-rw-r--r-- 1 root root    884 Apr 24 19:26 kill_supervisor.py\n",
    "-rw-r--r-- 1 root root   3220 May 16 20:35 main.py\n",
    "-rwx------ 1 root root    455 May 16 20:35 model_config_map.json*\n",
    "-rw-r--r-- 1 root root   4199 Apr 24 19:26 print_hook.py\n",
    "-rw-r--r-- 1 root root     43 May 16 20:35 requirementsp_cq63m8.txt\n",
    "-rw-r--r-- 1 root root    159 Apr 24 19:26 run_function_exception.py\n",
    "-rw-r--r-- 1 root root   2991 Apr 24 19:26 swagger_template.json\n",
    "-rw-r--r-- 1 root root    155 Apr 24 19:26 timeout_exception.py\n",
    "-rw-r--r-- 1 root root     44 Apr 24 19:26 wsgi.py\n",
    "-rw-r--r-- 1 root root    665 Apr 24 19:26 wsgi_request.py\n",
    "\n",
    "\n",
    "alexs-mbp-2:kafka-openhack azeltov$ docker run --name mlflow --rm -p 9998:5001 amlworksacrtfhdqmhp.azurecr.io/random-forest-model:1\n"
   ]
  }
 ],
 "metadata": {
  "kernelspec": {
   "display_name": "Python (azure_automl)",
   "language": "python",
   "name": "azure_automl"
  },
  "language_info": {
   "codemirror_mode": {
    "name": "ipython",
    "version": 3
   },
   "file_extension": ".py",
   "mimetype": "text/x-python",
   "name": "python",
   "nbconvert_exporter": "python",
   "pygments_lexer": "ipython3",
   "version": "3.6.6"
  }
 },
 "nbformat": 4,
 "nbformat_minor": 2
}
